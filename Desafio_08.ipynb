{
  "nbformat": 4,
  "nbformat_minor": 0,
  "metadata": {
    "anaconda-cloud": {},
    "kernelspec": {
      "display_name": "Python 3",
      "language": "python",
      "name": "python3"
    },
    "language_info": {
      "codemirror_mode": {
        "name": "ipython",
        "version": 3
      },
      "file_extension": ".py",
      "mimetype": "text/x-python",
      "name": "python",
      "nbconvert_exporter": "python",
      "pygments_lexer": "ipython3",
      "version": "3.6.5"
    },
    "colab": {
      "name": "Desafio 8.ipynb",
      "provenance": [],
      "toc_visible": true,
      "include_colab_link": true
    }
  },
  "cells": [
    {
      "cell_type": "markdown",
      "metadata": {
        "id": "view-in-github",
        "colab_type": "text"
      },
      "source": [
        "<a href=\"https://colab.research.google.com/github/andrelsjunior/br-python-challenges/blob/master/Desafio_08.ipynb\" target=\"_parent\"><img src=\"https://colab.research.google.com/assets/colab-badge.svg\" alt=\"Open In Colab\"/></a>"
      ]
    },
    {
      "cell_type": "markdown",
      "metadata": {
        "id": "o3tkeMDNf6Jo"
      },
      "source": [
        "### Desafio 8\n",
        "\n",
        "Escreva um script Python para encontrar as 10 palavras mais longas em um arquivo.\n",
        "\n",
        "O arquivo TXT está localizado na mesma pasta do projeto (texto.txt)."
      ]
    },
    {
      "cell_type": "code",
      "metadata": {
        "id": "EknxjSG0f6Jo"
      },
      "source": [
        "GrWords = []"
      ],
      "execution_count": 15,
      "outputs": []
    },
    {
      "cell_type": "code",
      "metadata": {
        "id": "ZYbqEWBG5nKx",
        "colab": {
          "base_uri": "https://localhost:8080/"
        },
        "outputId": "8e90ee71-cb1c-4855-d9df-dd9ce22334fa"
      },
      "source": [
        "with open('/content/texto.txt') as file:\r\n",
        "  data = file.read().split()\r\n",
        "\r\n",
        "  for i in range(len(data)):\r\n",
        "    GrWords.append(len(data[i]))\r\n",
        "\r\n",
        "  GrWords = sorted(set(GrWords), reverse = True)\r\n",
        "  print()\r\n",
        "\r\n",
        "  for i in range(0,10):\r\n",
        "    res = [word for word in data if len(word)==GrWords[i]]\r\n",
        "    ct = i+1\r\n",
        "    print(str(ct) + \" - Quantidade de letras\", GrWords[i], res)"
      ],
      "execution_count": 18,
      "outputs": [
        {
          "output_type": "stream",
          "text": [
            "\n",
            "1 - Quantidade de letras 16 ['general-purpose,', 'object-oriented,']\n",
            "2 - Quantidade de letras 13 ['comprehensive', 'intermediate)']\n",
            "3 - Quantidade de letras 12 ['interpreted,', 'language.Its', 'readability,']\n",
            "4 - Quantidade de letras 11 ['high-level,', 'programming', 'programmers', 'programming', 'programming', 'library.The']\n",
            "5 - Quantidade de letras 10 ['philosophy', 'emphasizes', 'paradigms,', 'imperative', 'functional', 'procedural', 'management', 'questions.']\n",
            "6 - Quantidade de letras 9 ['language?', 'languages', 'including', 'styles.It', 'automatic', '(beginner']\n",
            "7 - Quantidade de letras 8 ['concepts', 'possible', 'supports', 'multiple', 'features', 'standard', 'anything', 'practice', 'exercise', 'familiar']\n",
            "8 - Quantidade de letras 7 ['dynamic', 'express', 'dynamic', 'started', 'section', 'Python.']\n",
            "9 - Quantidade de letras 6 ['Python', 'Python', 'widely', 'design', 'syntax', 'allows', 'Python', 'system', 'memory']\n",
            "10 - Quantidade de letras 5 ['fewer', 'lines', 'Java.', 'large', 'learn', 'those']\n"
          ],
          "name": "stdout"
        }
      ]
    },
    {
      "cell_type": "code",
      "metadata": {
        "id": "7htZX0xc0LgE"
      },
      "source": [
        ""
      ],
      "execution_count": 20,
      "outputs": []
    },
    {
      "cell_type": "code",
      "metadata": {
        "id": "cKWMQ0vk0b2L"
      },
      "source": [
        ""
      ],
      "execution_count": null,
      "outputs": []
    }
  ]
}