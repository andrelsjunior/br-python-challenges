{
  "nbformat": 4,
  "nbformat_minor": 0,
  "metadata": {
    "anaconda-cloud": {},
    "kernelspec": {
      "display_name": "Python 3",
      "language": "python",
      "name": "python3"
    },
    "language_info": {
      "codemirror_mode": {
        "name": "ipython",
        "version": 3
      },
      "file_extension": ".py",
      "mimetype": "text/x-python",
      "name": "python",
      "nbconvert_exporter": "python",
      "pygments_lexer": "ipython3",
      "version": "3.6.5"
    },
    "colab": {
      "name": "Desafio 4.ipynb",
      "provenance": [],
      "include_colab_link": true
    }
  },
  "cells": [
    {
      "cell_type": "markdown",
      "metadata": {
        "id": "view-in-github",
        "colab_type": "text"
      },
      "source": [
        "<a href=\"https://colab.research.google.com/github/hlqa/br-python-challenges/blob/master/Desafio_04.ipynb\" target=\"_parent\"><img src=\"https://colab.research.google.com/assets/colab-badge.svg\" alt=\"Open In Colab\"/></a>"
      ]
    },
    {
      "cell_type": "markdown",
      "metadata": {
        "id": "dOqcKUYZf6JW"
      },
      "source": [
        "### Desafio 4\n",
        "\n",
        "Escreva uma função que receba uma string como parâmetro e retorne outra string com as palavras em ordem inversa.\n",
        "\n",
        "Exemplo:\n",
        "\n",
        "inverte_texto(\"Python é legal\") ➞ \"legal é Python\""
      ]
    },
    {
      "cell_type": "code",
      "metadata": {
        "id": "I5TInJDaf6JW"
      },
      "source": [
        "def invertexto(txt):\r\n",
        "  subtrai_indice = 1\r\n",
        "  txt_lst = txt.split()\r\n",
        "  rvs_txt = []\r\n",
        "  for palavra in txt_lst:\r\n",
        "    indice = -(len(txt_lst) - (len(txt_lst) - subtrai_indice))\r\n",
        "    rvs_txt.append(txt_lst[indice])\r\n",
        "    subtrai_indice = subtrai_indice + 1\r\n",
        "    if len(rvs_txt) == len(txt_lst):\r\n",
        "      result = \" \".join(rvs_txt)\r\n",
        "      print(result)"
      ],
      "execution_count": 19,
      "outputs": []
    },
    {
      "cell_type": "code",
      "metadata": {
        "id": "6gq9SLl1xSV1",
        "colab": {
          "base_uri": "https://localhost:8080/"
        },
        "outputId": "d23ce576-4f02-44ff-8661-14b52e16cb62"
      },
      "source": [
        "invertexto('python é legal')"
      ],
      "execution_count": 20,
      "outputs": [
        {
          "output_type": "stream",
          "text": [
            "legal é python\n"
          ],
          "name": "stdout"
        }
      ]
    },
    {
      "cell_type": "markdown",
      "metadata": {
        "id": "QimQiwewTBEc"
      },
      "source": [
        "Jeito mais simples"
      ]
    },
    {
      "cell_type": "code",
      "metadata": {
        "id": "wyXs49XPTAZD"
      },
      "source": [
        "def invertxt(texto):\r\n",
        "  quebra = texto.split()\r\n",
        "  quebra.reverse()\r\n",
        "  invertido = \" \".join(quebra)\r\n",
        "  print(invertido)"
      ],
      "execution_count": 22,
      "outputs": []
    },
    {
      "cell_type": "code",
      "metadata": {
        "id": "p7nInXRaUbGA",
        "outputId": "53217e23-a68c-4a1c-a4a0-7a53bb1e752f",
        "colab": {
          "base_uri": "https://localhost:8080/"
        }
      },
      "source": [
        "invertxt('python é legal')"
      ],
      "execution_count": 23,
      "outputs": [
        {
          "output_type": "stream",
          "text": [
            "legal é python\n"
          ],
          "name": "stdout"
        }
      ]
    },
    {
      "cell_type": "code",
      "metadata": {
        "id": "DkUv-tozUpsC"
      },
      "source": [
        ""
      ],
      "execution_count": null,
      "outputs": []
    }
  ]
}